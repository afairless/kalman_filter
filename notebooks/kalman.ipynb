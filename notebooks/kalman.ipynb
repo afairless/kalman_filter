{
 "cells": [
  {
   "cell_type": "markdown",
   "id": "1de02789",
   "metadata": {},
   "source": [
    "# Introduction"
   ]
  },
  {
   "cell_type": "markdown",
   "id": "be8d6f39",
   "metadata": {
    "cell_marker": "'''"
   },
   "source": [
    "Recently, [Mamba](https://arxiv.org/abs/2312.00752) has provoked a lot of \n",
    "[excited discussion](https://www.deeplearning.ai/the-batch/issue-244/) about \n",
    "potentially supplanting [Transformer-based architectures](\n",
    "https://en.wikipedia.org/wiki/Transformer_(deep_learning_architecture)) for [\n",
    "large language models](https://en.wikipedia.org/wiki/Large_language_model).  \n",
    "Mamba is merely one of a large class of [state-space models](\n",
    "https://probml.github.io/ssm-book/chapters/ssm/ssm_intro.html), which have\n",
    "demonstrated utility in modeling not only language but also [gene expression](\n",
    "https://doi.org/10.1093/bioinformatics/bth093), [neural activity](\n",
    "https://doi.org/10.1007/s10827-009-0179-x), [animal movement](\n",
    "https://doi.org/10.1016/j.tree.2007.10.009), and [macroeconomic](\n",
    "https://doi.org/10.1111/joes.12405) and [other time series](\n",
    "https://www.google.com/books/edition/Time_Series_Analysis_by_State_Space_Meth/lGyshsfkLrIC).\n",
    "\n",
    "While I've read [plenty](\n",
    "https://huggingface.co/blog/lbourdois/get-on-the-ssm-train) [of](\n",
    "https://newsletter.maartengrootendorst.com/p/a-visual-guide-to-mamba-and-state) \n",
    "[articles]( https://cnichkawde.github.io/statespacesequencemodels.html) [\n",
    "explaining](https://srush.github.io/annotated-mamba/hard.html) [Mamba's](\n",
    "https://jackcook.com/2024/02/23/mamba.html) [architecture](\n",
    "https://jameschen.io/jekyll/update/2024/02/12/mamba.html), I wanted to dive \n",
    "deeper into the basics of state-space models, which inevitably led me to \n",
    "[Kalman filters](https://en.wikipedia.org/wiki/Kalman_filter).  However, I found\n",
    "various sources confusing because they used different notation in specifying the\n",
    "filter's equations.  The [control](https://en.wikipedia.org/wiki/Control_system) \n",
    "research literature uses one set of variable names, while the statistical time\n",
    "series literature uses another set.  To reconcile these for my own \n",
    "understanding, I created a table of correspondences.  My two main sources were:\n",
    "\n",
    "- [Kalman and Bayesian Filters in Python, 2020](\n",
    "    https://rlabbe.github.io/Kalman-and-Bayesian-Filters-in-Python/)\n",
    "    > Roger R Labbe Jr\n",
    "\n",
    "- [Time Series Analysis by State Space Methods, 2nd Edition, 2012](\n",
    "    https://www.google.com/books/edition/Time_Series_Analysis_by_State_Space_Meth/lGyshsfkLrIC)\n",
    "    > J. Durbin, S.J. Koopman\n",
    "\n",
    "First, the Kalman filter equations as they appear in Labbe (2020) Chapter 6:\n",
    "\n",
    "$$\n",
    "\\begin{aligned}\n",
    "\\mathbf{\\bar x} &= \\mathbf{F x} + \\mathbf{B u} \\\\\n",
    "\\mathbf{\\bar P} &= \\mathbf{FP{F}}^\\mathsf T + \\mathbf Q \\\\\n",
    "\\\\\n",
    "\\textbf{S} &= \\mathbf{H\\bar PH}^\\mathsf T + \\mathbf R \\\\\n",
    "\\mathbf K &= \\mathbf{\\bar PH}^\\mathsf T \\mathbf{S}^{-1} \\\\\n",
    "\\textbf{y} &= \\mathbf z - \\mathbf{H \\bar x} \\\\\n",
    "\\mathbf x &=\\mathbf{\\bar x} +\\mathbf{K\\textbf{y}} \\\\\n",
    "\\mathbf P &= (\\mathbf{I}-\\mathbf{KH})\\mathbf{\\bar P}\n",
    "\\end{aligned}\n",
    "$$\n",
    "\n",
    "Second, the equations from Durbin and Koopman (2012), (4.24) on page 85, but in the same order as above:\n",
    "\n",
    "$$ a_{t+1} = T_t a_t + K_t v_t $$\n",
    "$$ P_{t+1} = T_t P_t (T_t - K_t Z_t)' + R_t Q_t R_t' $$\n",
    "\\\\\n",
    "$$ F_t = Z_t P_t Z_t' + H_t $$\n",
    "$$ K_t = T_t P_t Z_t' F_t^{-1} $$\n",
    "$$ v_t = y_t - Z_t a_t $$\n",
    "$$ a_{t|t} = a_t + P_t Z_t' F_t^{-1} v_t $$\n",
    "$$ P_{t|t} = P_t - P_t Z_t' F_t^{-1} Z_t P_t $$\n",
    "\n",
    "Now, the table specifying how the variables correspond:\n",
    "\n",
    "| Labbe (2020) | Durbin and Koopman (2012) | Terminology |\n",
    "| - | - | - |\n",
    "| $\\mathbf x$ | $$a_t$$ | state estimate |\n",
    "| $\\mathbf {\\bar x}$ | $$a_{t+1}$$ | predicted state at next time step |\n",
    "| $\\mathbf F$ | $$T_t$$ | process model / state transition matrix |\n",
    "| $\\mathbf B$ | $$omitted$$ | control input model / control function |\n",
    "| $\\mathbf u$ | $$omitted$$ | control input |\n",
    "| $\\mathbf P$ | $$P_t$$ | state covariance estimate |\n",
    "| $\\mathbf {\\bar P}$ | $$P_{t+1}$$ | predicted state covariance at next time step |\n",
    "| $$omitted$$ | $$R_t$$ | selection matrix |\n",
    "| $\\mathbf Q$ | $$Q_t$$ | process noise / state disturbance covariance matrix |\n",
    "| $\\mathbf S$ | $$F_t$$ | system uncertainty / innovation covariance |\n",
    "| $\\mathbf H$ | $$Z_t$$ | measurement function / design matrix |\n",
    "| $\\mathbf R$ | $$H_t$$ | measurement noise / observation disturbance covariance matrix |\n",
    "| $\\mathbf K$ | $$K_t$$ | Kalman gain / scaling factor |\n",
    "| $\\mathbf z$ | $$y_t$$ | measurement / observation / data point |\n",
    "| $\\mathbf y$ | $$v_t$$ | residual between predicted state and measurement |\n",
    "| $\\mathbf x$ | $$a_{t|t}$$ | updated state estimate |\n",
    "| $\\mathbf P$ | $$P_{t|t}$$ | updated state covariance estimate |\n",
    "\n",
    "In addition to the table above, I also coded kj"
   ]
  },
  {
   "cell_type": "markdown",
   "id": "43fe5ceb",
   "metadata": {},
   "source": [
    "## header"
   ]
  },
  {
   "cell_type": "code",
   "execution_count": null,
   "id": "847291ec",
   "metadata": {},
   "outputs": [],
   "source": [
    "a = 1"
   ]
  },
  {
   "cell_type": "code",
   "execution_count": null,
   "id": "646d791e",
   "metadata": {},
   "outputs": [],
   "source": [
    "from pathlib import Path\n",
    "from IPython.display import Image\n",
    "filepath = Path.cwd() / 'output' / 'filter_state_with_data.png'\n",
    "Image(filename=filepath, width=640)"
   ]
  }
 ],
 "metadata": {
  "jupytext": {
   "cell_metadata_filter": "-all",
   "main_language": "python",
   "notebook_metadata_filter": "-all"
  },
  "kernelspec": {
   "display_name": "Python 3 (ipykernel)",
   "language": "python",
   "name": "python3"
  },
  "language_info": {
   "codemirror_mode": {
    "name": "ipython",
    "version": 3
   },
   "file_extension": ".py",
   "mimetype": "text/x-python",
   "name": "python",
   "nbconvert_exporter": "python",
   "pygments_lexer": "ipython3",
   "version": "3.11.9"
  }
 },
 "nbformat": 4,
 "nbformat_minor": 5
}
